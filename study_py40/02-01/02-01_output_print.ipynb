{
 "cells": [
  {
   "cell_type": "code",
   "execution_count": 9,
   "metadata": {},
   "outputs": [
    {
     "name": "stdout",
     "output_type": "stream",
     "text": [
      "hello\n",
      "hello\n",
      "hello \"안녕하세요.\"\n",
      "hello 안녕하세요.\n",
      "hello '안녕하세요.'\n"
     ]
    }
   ],
   "source": [
    "#.ipynb 확장자는 주피터 노트북의 확장자로 코드를 추가하면서 프로그램 할 수 있는 방식\n",
    "# 파이썬의 문법을 배우거나 웹 크롤링, 데이터 분석 등에서는 주피터 노트북 방식의 코딩이 파이썬 코드를 만드는데 좋음\n",
    "# ctrl + enter : 출력 실행\n",
    "print(\"hello\")\n",
    "print('hello')\n",
    "print('hello \"안녕하세요.\"')\n",
    "print('hello ''안녕하세요.''')\n",
    "print(\"hello '안녕하세요.'\")"
   ]
  },
  {
   "cell_type": "code",
   "execution_count": 16,
   "metadata": {},
   "outputs": [
    {
     "name": "stdout",
     "output_type": "stream",
     "text": [
      "'hello',안녕하세요.'\n",
      "안녕하세요.\n"
     ]
    }
   ],
   "source": [
    "print(\"'hello',안녕하세요.'\")\n",
    "print('안녕'+'하세요'+'.')"
   ]
  },
  {
   "cell_type": "code",
   "execution_count": 19,
   "metadata": {},
   "outputs": [
    {
     "name": "stdout",
     "output_type": "stream",
     "text": [
      "hello\n",
      "오늘은 날씨가 좋네요\n",
      "\n",
      "hallo\n",
      "Berlin!\n"
     ]
    }
   ],
   "source": [
    "# \"\"\" 세 개로 시작 및 마무리하면 enter 가능\n",
    "# ''' 작은 따옴표 세 개도 동일한 결과 출력\n",
    "print(\"\"\"hello\n",
    "오늘은 날씨가 좋네요\n",
    "\"\"\")\n",
    "print('''hallo\n",
    "Berlin!''')"
   ]
  },
  {
   "cell_type": "code",
   "execution_count": 22,
   "metadata": {},
   "outputs": [
    {
     "name": "stdout",
     "output_type": "stream",
     "text": [
      "hellohallo\n"
     ]
    }
   ],
   "source": [
    "#\\ 역슬래쉬를 통한 줄바꿈도 가능 - 대신 큰 따옴표만 가능 : 코드가 너무 길 때, 가독성이 떨어지기 때문에 주석과 같은 enter로 사용\n"
   ]
  },
  {
   "cell_type": "code",
   "execution_count": 24,
   "metadata": {},
   "outputs": [
    {
     "name": "stdout",
     "output_type": "stream",
     "text": [
      "a는 555 b는 choi\n"
     ]
    }
   ],
   "source": [
    "#.format형식을 통한 변수 즉시 출력\n",
    "#string 문자형일 때만 큰따옴표 또는 작은따옴표 필요\n",
    "a=555\n",
    "b='choi'\n",
    "print(\"a는 {} b는 {}\" .format(a,b))\n"
   ]
  },
  {
   "cell_type": "code",
   "execution_count": 28,
   "metadata": {},
   "outputs": [
    {
     "name": "stdout",
     "output_type": "stream",
     "text": [
      "1221\n",
      "ab\n"
     ]
    }
   ],
   "source": [
    "a=555\n",
    "b=666\n",
    "print(a+b)\n",
    "\n",
    "a=777\n",
    "b=888\n",
    "print(\"a\"+\"b\")"
   ]
  }
 ],
 "metadata": {
  "kernelspec": {
   "display_name": "Python 3.9.12 ('base')",
   "language": "python",
   "name": "python3"
  },
  "language_info": {
   "codemirror_mode": {
    "name": "ipython",
    "version": 3
   },
   "file_extension": ".py",
   "mimetype": "text/x-python",
   "name": "python",
   "nbconvert_exporter": "python",
   "pygments_lexer": "ipython3",
   "version": "3.9.12"
  },
  "orig_nbformat": 4,
  "vscode": {
   "interpreter": {
    "hash": "ad2bdc8ecc057115af97d19610ffacc2b4e99fae6737bb82f5d7fb13d2f2c186"
   }
  }
 },
 "nbformat": 4,
 "nbformat_minor": 2
}
