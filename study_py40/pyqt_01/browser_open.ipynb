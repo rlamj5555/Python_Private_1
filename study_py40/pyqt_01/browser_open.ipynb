{
 "cells": [
  {
   "cell_type": "code",
   "execution_count": 1,
   "metadata": {},
   "outputs": [
    {
     "name": "stderr",
     "output_type": "stream",
     "text": [
      "[WDM] - Downloading: 100%|██████████| 6.46M/6.46M [00:01<00:00, 6.27MB/s]\n",
      "C:\\Users\\Public\\Documents\\ESTsoft\\CreatorTemp\\ipykernel_24912\\2579065659.py:4: DeprecationWarning: executable_path has been deprecated, please pass in a Service object\n",
      "  driver=webdriver.Chrome(ChromeDriverManager().install())\n"
     ]
    }
   ],
   "source": [
    "from webdriver_manager.chrome import ChromeDriverManager\n",
    "from selenium import webdriver\n",
    "\n",
    "driver=webdriver.Chrome(ChromeDriverManager().install())\n",
    "\n",
    "URL='https://www.google.co.kr'\n",
    "driver.get(url=URL)\n",
    "driver.implicitly_wait(time_to_wait=10)\n",
    "\n",
    "# chrome 창 Open 확인\n"
   ]
  },
  {
   "cell_type": "code",
   "execution_count": 2,
   "metadata": {},
   "outputs": [
    {
     "ename": "NoSuchWindowException",
     "evalue": "Message: no such window: target window already closed\nfrom unknown error: web view not found\n  (Session info: chrome=107.0.5304.88)\nStacktrace:\nBacktrace:\n\tOrdinal0 [0x0076ACD3+2075859]\n\tOrdinal0 [0x006FEE61+1633889]\n\tOrdinal0 [0x005FB7BD+571325]\n\tOrdinal0 [0x005E2E1A+470554]\n\tOrdinal0 [0x0064AA0B+895499]\n\tOrdinal0 [0x0065AC96+961686]\n\tOrdinal0 [0x00647136+880950]\n\tOrdinal0 [0x0061FEFD+720637]\n\tOrdinal0 [0x00620F3F+724799]\n\tGetHandleVerifier [0x00A1EED2+2769538]\n\tGetHandleVerifier [0x00A10D95+2711877]\n\tGetHandleVerifier [0x007FA03A+521194]\n\tGetHandleVerifier [0x007F8DA0+516432]\n\tOrdinal0 [0x0070682C+1665068]\n\tOrdinal0 [0x0070B128+1683752]\n\tOrdinal0 [0x0070B215+1683989]\n\tOrdinal0 [0x00716484+1729668]\n\tBaseThreadInitThunk [0x7733FA29+25]\n\tRtlGetAppContainerNamedObjectPath [0x77C87BBE+286]\n\tRtlGetAppContainerNamedObjectPath [0x77C87B8E+238]\n",
     "output_type": "error",
     "traceback": [
      "\u001b[1;31m---------------------------------------------------------------------------\u001b[0m",
      "\u001b[1;31mNoSuchWindowException\u001b[0m                     Traceback (most recent call last)",
      "\u001b[1;32mc:\\Private_Python_github\\study_py40\\20-01\\20-01_1.ipynb 셀 2\u001b[0m in \u001b[0;36m<cell line: 3>\u001b[1;34m()\u001b[0m\n\u001b[0;32m      <a href='vscode-notebook-cell:/c%3A/Private_Python_github/study_py40/20-01/20-01_1.ipynb#W1sZmlsZQ%3D%3D?line=0'>1</a>\u001b[0m \u001b[39mimport\u001b[39;00m \u001b[39mtime\u001b[39;00m\n\u001b[0;32m      <a href='vscode-notebook-cell:/c%3A/Private_Python_github/study_py40/20-01/20-01_1.ipynb#W1sZmlsZQ%3D%3D?line=1'>2</a>\u001b[0m URL \u001b[39m=\u001b[39m\u001b[39m'\u001b[39m\u001b[39mhttps://zum.com\u001b[39m\u001b[39m'\u001b[39m\n\u001b[1;32m----> <a href='vscode-notebook-cell:/c%3A/Private_Python_github/study_py40/20-01/20-01_1.ipynb#W1sZmlsZQ%3D%3D?line=2'>3</a>\u001b[0m driver\u001b[39m.\u001b[39;49mget(url\u001b[39m=\u001b[39;49mURL)\n\u001b[0;32m      <a href='vscode-notebook-cell:/c%3A/Private_Python_github/study_py40/20-01/20-01_1.ipynb#W1sZmlsZQ%3D%3D?line=3'>4</a>\u001b[0m driver\u001b[39m.\u001b[39mimplicitly_wait(time_to_wait\u001b[39m=\u001b[39m\u001b[39m10\u001b[39m)\n\u001b[0;32m      <a href='vscode-notebook-cell:/c%3A/Private_Python_github/study_py40/20-01/20-01_1.ipynb#W1sZmlsZQ%3D%3D?line=5'>6</a>\u001b[0m driver\u001b[39m.\u001b[39mfind_elements_by_css_selector(\u001b[39m'\u001b[39m\u001b[39m#app>div>header>div.search_bar>div>field=set>div>input[type=text]\u001b[39m\u001b[39m'\u001b[39m)\u001b[39m.\u001b[39msend_keys(\u001b[39m\"\u001b[39m\u001b[39m아무거나 검색\u001b[39m\u001b[39m\"\u001b[39m)\n",
      "File \u001b[1;32m~\\AppData\\Roaming\\Python\\Python39\\site-packages\\selenium\\webdriver\\remote\\webdriver.py:441\u001b[0m, in \u001b[0;36mWebDriver.get\u001b[1;34m(self, url)\u001b[0m\n\u001b[0;32m    437\u001b[0m \u001b[39mdef\u001b[39;00m \u001b[39mget\u001b[39m(\u001b[39mself\u001b[39m, url: \u001b[39mstr\u001b[39m) \u001b[39m-\u001b[39m\u001b[39m>\u001b[39m \u001b[39mNone\u001b[39;00m:\n\u001b[0;32m    438\u001b[0m     \u001b[39m\"\"\"\u001b[39;00m\n\u001b[0;32m    439\u001b[0m \u001b[39m    Loads a web page in the current browser session.\u001b[39;00m\n\u001b[0;32m    440\u001b[0m \u001b[39m    \"\"\"\u001b[39;00m\n\u001b[1;32m--> 441\u001b[0m     \u001b[39mself\u001b[39;49m\u001b[39m.\u001b[39;49mexecute(Command\u001b[39m.\u001b[39;49mGET, {\u001b[39m'\u001b[39;49m\u001b[39murl\u001b[39;49m\u001b[39m'\u001b[39;49m: url})\n",
      "File \u001b[1;32m~\\AppData\\Roaming\\Python\\Python39\\site-packages\\selenium\\webdriver\\remote\\webdriver.py:429\u001b[0m, in \u001b[0;36mWebDriver.execute\u001b[1;34m(self, driver_command, params)\u001b[0m\n\u001b[0;32m    427\u001b[0m response \u001b[39m=\u001b[39m \u001b[39mself\u001b[39m\u001b[39m.\u001b[39mcommand_executor\u001b[39m.\u001b[39mexecute(driver_command, params)\n\u001b[0;32m    428\u001b[0m \u001b[39mif\u001b[39;00m response:\n\u001b[1;32m--> 429\u001b[0m     \u001b[39mself\u001b[39;49m\u001b[39m.\u001b[39;49merror_handler\u001b[39m.\u001b[39;49mcheck_response(response)\n\u001b[0;32m    430\u001b[0m     response[\u001b[39m'\u001b[39m\u001b[39mvalue\u001b[39m\u001b[39m'\u001b[39m] \u001b[39m=\u001b[39m \u001b[39mself\u001b[39m\u001b[39m.\u001b[39m_unwrap_value(\n\u001b[0;32m    431\u001b[0m         response\u001b[39m.\u001b[39mget(\u001b[39m'\u001b[39m\u001b[39mvalue\u001b[39m\u001b[39m'\u001b[39m, \u001b[39mNone\u001b[39;00m))\n\u001b[0;32m    432\u001b[0m     \u001b[39mreturn\u001b[39;00m response\n",
      "File \u001b[1;32m~\\AppData\\Roaming\\Python\\Python39\\site-packages\\selenium\\webdriver\\remote\\errorhandler.py:243\u001b[0m, in \u001b[0;36mErrorHandler.check_response\u001b[1;34m(self, response)\u001b[0m\n\u001b[0;32m    241\u001b[0m         alert_text \u001b[39m=\u001b[39m value[\u001b[39m'\u001b[39m\u001b[39malert\u001b[39m\u001b[39m'\u001b[39m]\u001b[39m.\u001b[39mget(\u001b[39m'\u001b[39m\u001b[39mtext\u001b[39m\u001b[39m'\u001b[39m)\n\u001b[0;32m    242\u001b[0m     \u001b[39mraise\u001b[39;00m exception_class(message, screen, stacktrace, alert_text)  \u001b[39m# type: ignore[call-arg]  # mypy is not smart enough here\u001b[39;00m\n\u001b[1;32m--> 243\u001b[0m \u001b[39mraise\u001b[39;00m exception_class(message, screen, stacktrace)\n",
      "\u001b[1;31mNoSuchWindowException\u001b[0m: Message: no such window: target window already closed\nfrom unknown error: web view not found\n  (Session info: chrome=107.0.5304.88)\nStacktrace:\nBacktrace:\n\tOrdinal0 [0x0076ACD3+2075859]\n\tOrdinal0 [0x006FEE61+1633889]\n\tOrdinal0 [0x005FB7BD+571325]\n\tOrdinal0 [0x005E2E1A+470554]\n\tOrdinal0 [0x0064AA0B+895499]\n\tOrdinal0 [0x0065AC96+961686]\n\tOrdinal0 [0x00647136+880950]\n\tOrdinal0 [0x0061FEFD+720637]\n\tOrdinal0 [0x00620F3F+724799]\n\tGetHandleVerifier [0x00A1EED2+2769538]\n\tGetHandleVerifier [0x00A10D95+2711877]\n\tGetHandleVerifier [0x007FA03A+521194]\n\tGetHandleVerifier [0x007F8DA0+516432]\n\tOrdinal0 [0x0070682C+1665068]\n\tOrdinal0 [0x0070B128+1683752]\n\tOrdinal0 [0x0070B215+1683989]\n\tOrdinal0 [0x00716484+1729668]\n\tBaseThreadInitThunk [0x7733FA29+25]\n\tRtlGetAppContainerNamedObjectPath [0x77C87BBE+286]\n\tRtlGetAppContainerNamedObjectPath [0x77C87B8E+238]\n"
     ]
    }
   ],
   "source": [
    "import time\n",
    "URL ='https://zum.com'\n",
    "driver.get(url=URL)\n",
    "driver.implicitly_wait(time_to_wait=10)\n",
    "\n",
    "driver.find_elements_by_css_selector('#app>div>header>div.search_bar>div>field=set>div>input[type=text]').send_keys(\"아무거나 검색\")\n",
    "time.sleep(0.5)\n",
    "\n",
    "driver.find_elements_by_css_selctor('#app>div>header>div.search_bar>div>field-set>div>button.search').click()\n",
    "time.sleep(1)\n",
    "\n",
    "zoom_results=driver.find_elements_by_css_selector('#issue_wrap>ul>li>div>a:nth-child(1)>span.txt')\n",
    "\n",
    "zoom_list=[]\n",
    "for zoom_result in zoom_results:\n",
    "    print(zoom_result.text)\n",
    "    zoom_list.append(zoom_result.text)\n"
   ]
  }
 ],
 "metadata": {
  "kernelspec": {
   "display_name": "Python 3.9.12 ('base')",
   "language": "python",
   "name": "python3"
  },
  "language_info": {
   "codemirror_mode": {
    "name": "ipython",
    "version": 3
   },
   "file_extension": ".py",
   "mimetype": "text/x-python",
   "name": "python",
   "nbconvert_exporter": "python",
   "pygments_lexer": "ipython3",
   "version": "3.9.12"
  },
  "orig_nbformat": 4,
  "vscode": {
   "interpreter": {
    "hash": "ad2bdc8ecc057115af97d19610ffacc2b4e99fae6737bb82f5d7fb13d2f2c186"
   }
  }
 },
 "nbformat": 4,
 "nbformat_minor": 2
}
